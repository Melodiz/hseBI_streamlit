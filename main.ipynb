{
 "cells": [
  {
   "cell_type": "markdown",
   "metadata": {},
   "source": [
    "<h1>Preparing env</h1>"
   ]
  },
  {
   "cell_type": "code",
   "execution_count": null,
   "metadata": {},
   "outputs": [],
   "source": [
    "import numpy as np\n",
    "import pandas as pd\n",
    "import plotly.express as px\n",
    "import plotly.graph_objects as go\n",
    "import os\n",
    "from collections import Counter\n",
    "import math"
   ]
  },
  {
   "cell_type": "code",
   "execution_count": null,
   "metadata": {},
   "outputs": [],
   "source": [
    "#uploading all data\n",
    "PATH_DATA = './dataset'\n",
    "tr_1 = pd.read_csv(os.path.join(PATH_DATA, 'transaction_1.csv'), index_col='client_id').sort_index()\n",
    "tr_2 = pd.read_csv(os.path.join(PATH_DATA, 'transaction_2.csv'), index_col='client_id').sort_index()\n",
    "tr_3 = pd.read_csv(os.path.join(PATH_DATA, 'transaction_3.csv'), index_col='client_id').sort_index()\n",
    "tr_4 = pd.read_csv(os.path.join(PATH_DATA, 'transaction_4.csv'), index_col='client_id').sort_index()\n",
    "tr_5 = pd.read_csv(os.path.join(PATH_DATA, 'transaction_5.csv'), index_col='client_id').sort_index()\n",
    "tr_6 = pd.read_csv(os.path.join(PATH_DATA, 'transaction_6.csv'), index_col='client_id').sort_index()\n",
    "transactions = pd.concat(\n",
    "    [tr_1, tr_2, tr_3, tr_4, tr_5, tr_6]\n",
    ")\n",
    "\n",
    "mcc_codes = pd.read_csv(os.path.join(PATH_DATA, 'mcc_codes.csv'), sep=';', index_col='mcc_code')\n",
    "gender_train = pd.read_csv(os.path.join(PATH_DATA, 'train.csv'), index_col='client_id')\n",
    "trans_types = pd.read_csv('dataset/trans_types.csv')\n",
    "\n",
    "# main settings about the style: \n",
    "main_template = 'plotly_dark'"
   ]
  },
  {
   "cell_type": "markdown",
   "metadata": {},
   "source": [
    "<h1>Code<h1>"
   ]
  },
  {
   "cell_type": "markdown",
   "metadata": {},
   "source": [
    "<h3>show dataframes in row form<h3>"
   ]
  },
  {
   "cell_type": "code",
   "execution_count": null,
   "metadata": {},
   "outputs": [],
   "source": [
    "print('trans_types:')\n",
    "display(trans_types)\n",
    "\n",
    "print('transactions:')\n",
    "display(transactions)\n",
    "\n",
    "print('gender_train:')\n",
    "display(gender_train)\n",
    "\n",
    "print('mcc_codes:')\n",
    "display(mcc_codes)\n"
   ]
  },
  {
   "cell_type": "markdown",
   "metadata": {},
   "source": [
    "<h3>records of male and female transfers<h3>"
   ]
  },
  {
   "cell_type": "code",
   "execution_count": null,
   "metadata": {},
   "outputs": [],
   "source": [
    "def change_bool_to_names(gender_value:int) -> str:\n",
    "    if gender_value:\n",
    "        return 'male'\n",
    "    return 'female'"
   ]
  },
  {
   "cell_type": "code",
   "execution_count": null,
   "metadata": {},
   "outputs": [],
   "source": [
    "# combine them into one dataframe with 2 columns\n",
    "# client_id & gender \n",
    "genders_id_group = pd.DataFrame(transactions.index.copy()).set_index('client_id')\n",
    "genders_id_group = genders_id_group.join(gender_train)\n",
    "genders_id_group = genders_id_group.loc[:, ~genders_id_group.columns.str.contains('^Unnamed')]\n",
    "genders_id_group = genders_id_group[~genders_id_group.index.duplicated(keep='first')]\n",
    "\n",
    "\n",
    "genders_id_group = genders_id_group.reset_index().groupby('gender')['client_id'].count().reset_index()\n",
    "genders_id_group['gender'][0] = 'female'\n",
    "genders_id_group['gender'][1] = 'male'\n",
    "\n",
    "#make simple bar chart using this data\n",
    "\n",
    "fig_genders_id_group = px.bar(genders_id_group,\n",
    "    x = 'gender',\n",
    "    y = 'client_id', \n",
    "    template=main_template, \n",
    "    labels={'client_id': 'quantity'}, \n",
    "    title='how many men and women in dataset', \n",
    "    color='gender'\n",
    ")\n",
    "\n",
    "fig_genders_id_group.show()"
   ]
  },
  {
   "cell_type": "markdown",
   "metadata": {},
   "source": [
    "<h3>time period covered in the data</h3>"
   ]
  },
  {
   "cell_type": "code",
   "execution_count": null,
   "metadata": {},
   "outputs": [],
   "source": [
    "# # it takes about minute, on m2\n",
    "# def exclude_trans_time_ext(n):\n",
    "#     return (n>0)*(n)\n",
    "\n",
    "# period_covered_sl = {}\n",
    "\n",
    "# prev_index = transactions.index[0]\n",
    "# temp_max = -1\n",
    "# temp_min = 10**5\n",
    "# for index, row in transactions.sort_index().iterrows():\n",
    "#     data = int(row['trans_time'].split()[0])\n",
    "#     if index == prev_index:\n",
    "#         temp_max = max(temp_max, data)\n",
    "#         temp_min = min(temp_min, data)\n",
    "#     else:\n",
    "#         period_covered_sl[index]=temp_max-temp_min\n",
    "#         prev_index = index\n",
    "#         temp_min = 10**5\n",
    "#         temp_max = -1\n",
    "\n",
    "\n",
    "# df_period_covered = pd.DataFrame(list(period_covered_sl.items()), columns=['client_id', 'count'])\n",
    "# df_period_covered['count'] = df_period_covered['count'].apply(exclude_trans_time_ext)"
   ]
  },
  {
   "cell_type": "code",
   "execution_count": null,
   "metadata": {},
   "outputs": [],
   "source": [
    "\n",
    "# fig_period_covered = px.histogram(df_period_covered,\n",
    "#                                 x = 'count', \n",
    "#                                 template=main_template, \n",
    "#                                 title = 'Spending rate')\n",
    "# fig_period_covered.update_layout(xaxis_title = 'period of spendings in days', \n",
    "#                                  yaxis_title = 'users count', \n",
    "#                                  title_x = 0.45,\n",
    "#                                  bargap = 0.04)\n",
    "\n",
    "# fig_period_covered.show()\n",
    "\n",
    "# fig_cor_period_covered = px.histogram(df_period_covered.loc[df_period_covered['count']>430],\n",
    "#                                 x = 'count', \n",
    "#                                 template=main_template, \n",
    "#                                 title = 'Adjustment Spending rate')\n",
    "# fig_cor_period_covered.update_layout(xaxis_title = 'period of spendings in days', \n",
    "#                                  yaxis_title = 'users count', \n",
    "#                                  title_x = 0.45,\n",
    "#                                  bargap = 0.2)\n",
    "\n",
    "# fig_cor_period_covered.show()"
   ]
  },
  {
   "cell_type": "markdown",
   "metadata": {},
   "source": [
    "<h3>mean, std, e.t.c</h3>"
   ]
  },
  {
   "cell_type": "code",
   "execution_count": null,
   "metadata": {},
   "outputs": [],
   "source": [
    "# lets find how many women and men spend for given period:\n",
    "# merge transactons and genders by client_id:\n",
    "extended_transactions = pd.merge(transactions, gender_train, left_index=True, right_index=True)\n",
    "#slit men's and women's transactions\n",
    "women_spendings = extended_transactions.loc[(gender_train['gender'] == 0) & (extended_transactions['amount'] < 0)]\n",
    "men_spendings = extended_transactions.loc[(gender_train['gender'] == 1) & (extended_transactions['amount'] < 0)]\n",
    "\n",
    "#group all spends of each users\n",
    "gr_women_spendings = women_spendings.groupby(level=0)['amount'].sum().reset_index().set_index('client_id')\n",
    "gr_men_spendings = men_spendings.groupby(level=0)['amount'].sum().reset_index().set_index('client_id')\n",
    "\n",
    "# histogram about their spendings\n",
    "n = 60\n",
    "array_of_closest = [x*(1_500_000/n) for x in range(n)]\n",
    "\n",
    "#Python Code to Find closest number in Sorted array using recursion\n",
    "def find_closest_recursive(arr, left, right, target):\n",
    "\t# base case: when there is only one element in the array\n",
    "\tif left == right:\n",
    "\t\treturn arr[left]\n",
    "\n",
    "\t# calculate the middle index\n",
    "\tmid = (left + right) // 2\n",
    "\n",
    "\t# recursively search the left half of the array\n",
    "\tleft_closest = find_closest_recursive(arr, left, mid, target)\n",
    "\n",
    "\t# recursively search the right half of the array\n",
    "\tright_closest = find_closest_recursive(arr, mid + 1, right, target)\n",
    "\n",
    "\t# compare the absolute differences of the closest elements in the left and right halves\n",
    "\tif abs(left_closest - target) <= abs(right_closest - target):\n",
    "\t\treturn left_closest\n",
    "\telse:\n",
    "\t\treturn right_closest\n",
    "\n",
    "\n",
    "gr_men_spendings_cor = gr_men_spendings.reset_index()['amount'].abs().tolist()\n",
    "gr_men_spendings_cor = [find_closest_recursive(array_of_closest, 0, n-1, x) for x in gr_men_spendings_cor]\n",
    "\n",
    "gr_men_spendings_cor = list(Counter(gr_men_spendings_cor).items())\n",
    "gr_men_spendings_cor = pd.DataFrame(gr_men_spendings_cor).rename(columns={0:'amount', 1:'count'})\n",
    "\n",
    "gr_men_spendings_cor = gr_men_spendings_cor.sort_values('amount')\n",
    "gr_men_spendings_cor = gr_men_spendings_cor.head(len(gr_men_spendings_cor)-1)\n",
    "gr_men_spendings_cor['gender'] = ['male']*len(gr_men_spendings_cor)\n",
    "\n",
    "# same for women\n",
    "gr_women_spendings_cor = gr_women_spendings.reset_index()['amount'].abs().tolist()\n",
    "gr_women_spendings_cor = [find_closest_recursive(array_of_closest, 0, n-1, x) for x in gr_women_spendings_cor]\n",
    "\n",
    "gr_women_spendings_cor = list(Counter(gr_women_spendings_cor).items())\n",
    "gr_women_spendings_cor = pd.DataFrame(gr_women_spendings_cor).rename(columns={0:'amount', 1:'count'})\n",
    "\n",
    "gr_women_spendings_cor = gr_women_spendings_cor.sort_values('amount')\n",
    "gr_women_spendings_cor = gr_women_spendings_cor.head(len(gr_women_spendings_cor)-1)\n",
    "gr_women_spendings_cor['gender'] = ['female']*len(gr_women_spendings_cor)\n"
   ]
  },
  {
   "cell_type": "code",
   "execution_count": null,
   "metadata": {},
   "outputs": [],
   "source": [
    "avg_men_spendings = round(abs(gr_men_spendings['amount'].mean()), 2)\n",
    "avg_women_spendings = round(abs(gr_women_spendings['amount'].mean()), 2)\n",
    "\n",
    "bar_c_of_avg_spendings = px.bar(\n",
    "            x = [avg_men_spendings, avg_women_spendings],\n",
    "            y = ['men', 'women'],\n",
    "            orientation='h',\n",
    "            title = \"AVG men's and women's spendings: (sum over a period)\", \n",
    "            labels={ \"x\": \"quantity in millions of rubles\",\n",
    "                     \"y\": \"sex\"},\n",
    "                     template=main_template,\n",
    "                     )\n",
    "\n",
    "bar_c_of_avg_spendings.show()"
   ]
  },
  {
   "cell_type": "code",
   "execution_count": null,
   "metadata": {},
   "outputs": [],
   "source": [
    "fig_box_gr_men_spendigns = px.box(gr_men_spendings['amount'].abs(), \n",
    "             template=main_template, \n",
    "             title = \"Box plot, men's spendings\", \n",
    "             y = 'amount', \n",
    "             points='all')\n",
    "\n",
    "fig_box_gr_men_spendigns.show()"
   ]
  },
  {
   "cell_type": "code",
   "execution_count": null,
   "metadata": {},
   "outputs": [],
   "source": [
    "fig_box_gr_men_spendigns_cor = px.box(gr_men_spendings_cor, y='amount', template=main_template, \n",
    "             title = \"Adjusted data about men's spendings over the period (less then 1.5 M rub)\")\n",
    "\n",
    "fig_box_gr_men_spendigns_cor.show()\n"
   ]
  },
  {
   "cell_type": "markdown",
   "metadata": {},
   "source": [
    "<h1>Data details<h1>"
   ]
  },
  {
   "cell_type": "code",
   "execution_count": null,
   "metadata": {},
   "outputs": [],
   "source": [
    "# normalize the spendings period to 30 days\n",
    "# mo_extended_transactions = extended_transactions.reset_index()\n",
    "\n",
    "def crutch_to_normalise_sorting(value: str):\n",
    "    return (len(value.split()[0])>2)*value\n",
    "\n",
    "mo_extended_transactions = extended_transactions\n",
    "mo_extended_transactions['trans_time'] = mo_extended_transactions['trans_time'].apply(crutch_to_normalise_sorting)\n",
    "mo_extended_transactions = mo_extended_transactions.sort_values(\n",
    "    by=['client_id', 'trans_time'], ascending=[False, False])\n"
   ]
  },
  {
   "cell_type": "code",
   "execution_count": null,
   "metadata": {},
   "outputs": [],
   "source": [
    "gr_women_spendings_cor['gender'] = ['female']*len(gr_women_spendings_cor)\n",
    "\n",
    "fig_men_spendings_bar = px.bar(\n",
    "\t\tgr_men_spendings_cor,\n",
    "\t\tx = 'amount', \n",
    "\t\ty = 'count', \n",
    "\t\ttemplate=main_template, \n",
    "\t\tcolor='amount', \n",
    "\t\ttitle = \"distribution chart of men's spendings\",\n",
    "\t\tlabels={'count':'amount of people'}\n",
    "\t\t\t\t\t\t)\n",
    "fig_women_spendings_bar = px.bar(\n",
    "\t\tgr_women_spendings_cor,\n",
    "\t\tx = 'amount', \n",
    "\t\ty = 'count', \n",
    "\t\ttemplate=main_template, \n",
    "\t\tcolor='amount',\n",
    "\t\ttitle = \"distribution chart of women's spendings\",\n",
    "\t\tlabels={'count':\"amount of people\"}\n",
    "\t\t\t\t\t\t)\n",
    "\n",
    "fig_men_spendings_bar.show()\n",
    "fig_women_spendings_bar.show()\n",
    "\n",
    "merge_spendings_cor = pd.concat([gr_men_spendings_cor, gr_women_spendings_cor])\n",
    "\n",
    "fig_spendings_merge = px.line(merge_spendings_cor, \n",
    "\t\t\t\t\t\t\t  color='gender', \n",
    "\t\t\t\t\t\t\t  x = 'amount', \n",
    "\t\t\t\t\t\t\t  y = 'count', \n",
    "\t\t\t\t\t\t\t  template=main_template, \n",
    "\t\t\t\t\t\t\t  title=\"distribution chart of men's and women's spendings\",\n",
    "\t\t\t\t\t\t\t  labels={\n",
    "\t\t\t\t\t\t\t\t\t'1':'men',\n",
    "\t\t\t\t \t\t\t\t\t'amount':'spends in rubles',\n",
    "\t\t\t\t\t\t\t\t\t'count':'amount of people'\n",
    "\t\t\t\t\t\t\t\t\t\t})\n",
    "\n",
    "fig_spendings_merge.show()\n",
    "\n",
    "\n"
   ]
  },
  {
   "cell_type": "code",
   "execution_count": null,
   "metadata": {},
   "outputs": [],
   "source": [
    "# lets visualise all men's and women's spendings time information:\n",
    "\n",
    "partical_men_sp_data = men_spendings[['trans_time', 'amount']].copy()\n",
    "partical_women_sp_data = women_spendings[['trans_time', 'amount']].copy()\n",
    "\n",
    "def sep_time_and_data(trans_time):\n",
    "    return trans_time[-8:-6]\n",
    "\n",
    "# def mcc_value_s(mcc_code):\n",
    "#     return mcc_means[mcc_code]['mcc_description']\n",
    "\n",
    "def cor_amount(amount):\n",
    "    return (abs(amount)<130_000) * abs(amount)\n",
    "\n",
    "\n",
    "partical_men_sp_data['trans_time'] = (partical_men_sp_data['trans_time'].apply(sep_time_and_data))\n",
    "# partical_men_sp_data['mcc_code'] = partical_men_sp_data['mcc_code'].apply(mcc_value_s)\n",
    "partical_men_sp_data['amount'] = partical_men_sp_data['amount'].apply(cor_amount)\n",
    "cut_partical_men_sp_data = partical_men_sp_data.head(100_000)\n",
    "partical_men_sp_data = partical_men_sp_data.sort_values('trans_time')\n",
    "\n",
    "\n",
    "partical_women_sp_data['trans_time'] = partical_women_sp_data['trans_time'].apply(sep_time_and_data)\n",
    "# partical_women_sp_data['mcc_code'] = partical_women_sp_data['mcc_code'].apply(mcc_value_s)\n",
    "partical_women_sp_data['amount'] = partical_women_sp_data['amount'].apply(cor_amount)\n",
    "cut_partical_women_sp_data = partical_women_sp_data.head(100_000)\n",
    "partical_women_sp_data = partical_women_sp_data.sort_values('trans_time')\n"
   ]
  },
  {
   "cell_type": "code",
   "execution_count": null,
   "metadata": {},
   "outputs": [],
   "source": [
    "time_spendings_men = px.histogram(partical_men_sp_data, x = 'trans_time', y = 'amount',\n",
    "                                    template=main_template,\n",
    "                                    labels={'trans_time':'transactions time'},\n",
    "                                    title=\"sum of men's transactions on each hour\",\n",
    "                                    color_discrete_sequence=px.colors.qualitative.Set1)\n",
    "time_spendings_men.update_layout(yaxis_title = 'sum of transaction on eeach hour')\n",
    "time_spendings_men.show()\n",
    "\n",
    "time_spendings_women = px.histogram(partical_women_sp_data, x = 'trans_time', y = 'amount',\n",
    "                                    template=main_template,\n",
    "                                    labels={'trans_time':'transactions time'},\n",
    "                                    title=\"sum of women's transactions on each hour\", \n",
    "                                    color_discrete_sequence=px.colors.qualitative.Set3)\n",
    "time_spendings_women.update_layout(yaxis_title = 'sum of transaction on eeach hour')\n",
    "time_spendings_women.show()"
   ]
  },
  {
   "cell_type": "code",
   "execution_count": null,
   "metadata": {},
   "outputs": [],
   "source": [
    "# show how much operation they perform on each hour\n",
    "plank = 1000\n",
    "def amount_transofrm(value):\n",
    "    return int(value>=plank)\n",
    "\n",
    "\n",
    "count_trans_men = partical_men_sp_data.copy()\n",
    "count_trans_men['amount'] = count_trans_men['amount'].apply(amount_transofrm)\n",
    "\n",
    "count_trans_women = partical_women_sp_data.copy()\n",
    "count_trans_women['amount'] = count_trans_women['amount'].apply(amount_transofrm)\n",
    "\n",
    "fig_count_trans_per_hounr_men = px.histogram(\n",
    "            count_trans_men, \n",
    "            x = 'trans_time', \n",
    "            y = 'amount', \n",
    "            title=f'how many operations greater then {plank} rub men perform in an hour', \n",
    "            template=main_template,\n",
    "            color_discrete_sequence=px.colors.qualitative.Set1, \n",
    "            labels={'trans_time':'transactions time'})\n",
    "fig_count_trans_per_hounr_men.update_layout(yaxis_title=\"how many operations men perform in an hour\")\n",
    "\n",
    "fig_count_trans_per_hounr_men.show()\n",
    "\n",
    "fig_count_trans_per_hounr_women = px.histogram(\n",
    "            count_trans_women, \n",
    "            x = 'trans_time', \n",
    "            y = 'amount', \n",
    "            title=f'how many operations greater then {plank} rub women perform in an hour ', \n",
    "            template=main_template,\n",
    "            color_discrete_sequence=px.colors.qualitative.Set3, \n",
    "            labels={'trans_time':'transactions time'})\n",
    "fig_count_trans_per_hounr_women.update_layout(yaxis_title=\"how many operations men perform in an hour\")\n",
    "\n",
    "fig_count_trans_per_hounr_women.show()\n"
   ]
  },
  {
   "cell_type": "code",
   "execution_count": null,
   "metadata": {},
   "outputs": [],
   "source": [
    "#collecting men's and women's mean spendings by category \n",
    "mean_mcc_men = men_spendings.groupby('mcc_code')['amount'].sum().reset_index().set_index('mcc_code')\n",
    "mean_mcc_women = women_spendings.groupby('mcc_code')['amount'].sum().reset_index().set_index('mcc_code')\n",
    "\n",
    "mcc_means = mcc_codes.to_dict('index')"
   ]
  },
  {
   "cell_type": "code",
   "execution_count": null,
   "metadata": {},
   "outputs": [],
   "source": [
    "# get statistics on the 15 most popular expenses of men and women\n",
    "top10_men_sum = abs(mean_mcc_men.sort_values('amount').head(10)).reset_index()\n",
    "top10_women_sum = abs(mean_mcc_women.sort_values('amount').head(10)).reset_index()\n",
    "\n",
    "# visualise it:\n",
    "\n",
    "top10_men_mcc_names = [mcc_means[x]['mcc_description'] for x in top10_men_sum['mcc_code'].tolist()]\n",
    "\n",
    "fig_top10_men = px.bar(top10_men_sum, y = 'amount', x = [x for x in range(10)], \n",
    "            title=\"Top 10 men's spending categories\", \n",
    "            labels={'y':'spending categories'}, \n",
    "            template=main_template, \n",
    "            color=top10_men_mcc_names)\n",
    "\n",
    "fig_top10_men.update_layout(legend_orientation=\"h\")\n",
    "\n",
    "fig_top10_men.show()\n",
    "\n",
    "top10_women_mcc_names = [mcc_means[x]['mcc_description'] for x in top10_women_sum['mcc_code'].tolist()]\n",
    "\n",
    "fig_top10_women = px.bar(top10_women_sum, y = 'amount', x = [x for x in range(10)], \n",
    "            title=\"Top 10 women's spending categories\", \n",
    "            labels={'y':'spending categories'}, \n",
    "            template=main_template, \n",
    "            color=top10_women_mcc_names)\n",
    "\n",
    "fig_top10_women.update_layout(legend_orientation=\"h\")\n",
    "\n",
    "fig_top10_women.show()"
   ]
  },
  {
   "cell_type": "code",
   "execution_count": null,
   "metadata": {},
   "outputs": [],
   "source": [
    "\n",
    "\n",
    "city_distr_men = extended_transactions.loc[(extended_transactions['gender']==1) & (extended_transactions['amount']<0)].reset_index(\n",
    ").groupby(['client_id', 'trans_city'])['amount'].sum().reset_index()\n",
    "\n",
    "city_distr_men['amount'] = city_distr_men['amount'].abs()\n",
    "\n",
    "city_distr_women = extended_transactions.loc[(extended_transactions['gender']==0) & (extended_transactions['amount']<0)].reset_index(\n",
    ").groupby(['client_id', 'trans_city'])['amount'].sum().reset_index()\n",
    "\n",
    "city_distr_women['amount'] = city_distr_men['amount'].abs()\n",
    "\n",
    "fig_distr_city_men = px.box(city_distr_men, x = 'trans_city', y = 'amount', \n",
    "             template=main_template, \n",
    "             title = 'distribution of spending by city among men (relevant part)', \n",
    "             labels={'amount':'spending data', 'trans_city':'city name'})\n",
    "fig_distr_city_men.update_layout( \n",
    "    yaxis=dict(\n",
    "        range=[0,2*10**6]))\n",
    "\n",
    "fig_distr_city_men.show()\n",
    "fig_distr_city_women = px.box(city_distr_women, x = 'trans_city', y = 'amount', \n",
    "             template=main_template, \n",
    "             title = 'distribution of spending by city among women (relevant part)', \n",
    "             labels={'amount':'spending data', 'trans_city':'city name'})\n",
    "fig_distr_city_women.update_layout( \n",
    "    yaxis=dict(\n",
    "        range=[0,2*10**6]))\n",
    "fig_distr_city_women.show()\n"
   ]
  },
  {
   "cell_type": "markdown",
   "metadata": {},
   "source": [
    "<h3>What time people make the most expensive purchases<h3>"
   ]
  },
  {
   "cell_type": "code",
   "execution_count": null,
   "metadata": {},
   "outputs": [],
   "source": [
    "partical_men_sp_data = partical_men_sp_data.groupby('trans_time')['amount'].median().reset_index()\n",
    "partical_women_sp_data = partical_women_sp_data.groupby('trans_time')['amount'].median().reset_index()\n",
    "\n",
    "partical_men_sp_data['gender']='male'\n",
    "partical_women_sp_data['gender']='female'\n",
    "\n",
    "merge_time_sp_data = pd.concat([partical_men_sp_data, \n",
    "                                partical_women_sp_data])\n",
    "\n",
    "fig_bar_top_time = px.bar(merge_time_sp_data, \n",
    "                          y = 'amount', \n",
    "                          x = 'trans_time', \n",
    "                          template = main_template, \n",
    "                          title = 'The average amount of money spent per hour (median)', \n",
    "                          labels={'trans_time':'time'}, \n",
    "                          color='gender', \n",
    "                          barmode='group')\n",
    "\n",
    "fig_bar_top_time.show()"
   ]
  },
  {
   "cell_type": "markdown",
   "metadata": {},
   "source": [
    "<h3>who pays in restaurants and when<h3>"
   ]
  },
  {
   "cell_type": "code",
   "execution_count": null,
   "metadata": {},
   "outputs": [],
   "source": [
    "restaurant_codes = [5812,5813,5814]\n",
    "restaurant_data = extended_transactions.loc[\n",
    "    extended_transactions['mcc_code'].isin(restaurant_codes)]\n",
    "\n",
    "def sep_time_and_data(trans_time):\n",
    "    return (trans_time[-8:-6])\n",
    "\n",
    "restaurant_data['trans_time'] = (restaurant_data['trans_time'].apply(sep_time_and_data))\n",
    "restaurant_data['amount'] = restaurant_data['amount'].abs()\n",
    "\n",
    "rest_woman_temp = restaurant_data.loc[restaurant_data['gender']==0]\n",
    "rest_man_temp = restaurant_data.loc[restaurant_data['gender']==1]\n",
    "\n",
    "rest_woman_temp = rest_woman_temp.groupby('trans_time')['amount'].sum().reset_index()\n",
    "rest_man_temp = rest_man_temp.groupby('trans_time')['amount'].sum().reset_index()\n",
    "\n",
    "rest_woman_temp['gender']='female'\n",
    "rest_man_temp['gender']='male'\n",
    "\n",
    "count_rest_data = pd.concat([rest_woman_temp, \n",
    "                                rest_man_temp])\n",
    "\n"
   ]
  },
  {
   "cell_type": "code",
   "execution_count": null,
   "metadata": {},
   "outputs": [],
   "source": [
    "\n",
    "fig_bar_rest_time_sum = px.bar(count_rest_data, \n",
    "             y='amount', x = 'trans_time', \n",
    "             color='gender', \n",
    "             template=main_template, \n",
    "             barmode='relative', \n",
    "             labels={'trans_time':'hour'}, \n",
    "             title = 'Amount spent on restaurants by men and women by hour (sum, barmode=relative)')\n",
    "\n",
    "fig_bar_rest_time_sum.show()"
   ]
  },
  {
   "cell_type": "code",
   "execution_count": null,
   "metadata": {},
   "outputs": [],
   "source": [
    "nan_terms = restaurant_data['term_id'].isna().sum()\n",
    "\n",
    "fig_terms_trans_pie = px.pie(\n",
    "    values=[nan_terms, len(restaurant_data)-nan_terms], \n",
    "    names=['by terminal', 'by transfer'],\n",
    "    template=main_template, \n",
    "    title='Ratio of the number of transactions paid via terminal and transfer', \n",
    "    hole=0.3\n",
    "    )\n",
    "fig_terms_trans_pie.update_traces(hoverinfo='label+percent', textinfo='value', textfont_size=15,\n",
    "                  marker=dict(line=dict(color='#ffffff', width=0.5)))\n",
    "\n",
    "fig_terms_trans_pie.show()"
   ]
  },
  {
   "cell_type": "code",
   "execution_count": null,
   "metadata": {},
   "outputs": [],
   "source": [
    "def check_terminal_present(term_id: str) -> str:\n",
    "    if len(str(term_id))!=3:\n",
    "        return 'By terminal'\n",
    "    return 'By transfer'\n",
    "\n",
    "restaurant_data['term_id'] = restaurant_data['term_id'].apply(check_terminal_present)\n",
    "\n",
    "restaurant_data_women = restaurant_data.loc[restaurant_data['gender']==0]\n",
    "restaurant_data_men = restaurant_data.loc[restaurant_data['gender']==1]\n",
    "\n",
    "restaurant_data_men = restaurant_data_men.groupby('term_id')['amount'].count().reset_index()\n",
    "restaurant_data_women = restaurant_data_women.groupby('term_id')['amount'].count().reset_index()\n",
    "\n",
    "restaurant_data_men['gender'] = 'male'\n",
    "restaurant_data_women['gender'] = 'female'\n",
    "\n",
    "\n",
    "restaurant_data_4_lines = pd.concat([restaurant_data_men, restaurant_data_women])"
   ]
  },
  {
   "cell_type": "code",
   "execution_count": null,
   "metadata": {},
   "outputs": [],
   "source": [
    "fig = px.bar(\n",
    "    restaurant_data_4_lines, \n",
    "    x = 'gender', \n",
    "    y = 'amount', \n",
    "    color='term_id', \n",
    "    barmode='group', \n",
    "    template=main_template,\n",
    "    labels={'term_id':'type'},\n",
    "    title='Who and how to make payments.' \n",
    ")\n",
    "\n",
    "fig.show()"
   ]
  },
  {
   "cell_type": "code",
   "execution_count": null,
   "metadata": {},
   "outputs": [],
   "source": [
    "fig_box_city_rest = px.box(\n",
    "    restaurant_data, \n",
    "    x = 'trans_city', \n",
    "    y = 'amount', \n",
    "    color='gender', \n",
    "    template=main_template,\n",
    "    labels={'trans_city':'city',\n",
    "            '1':'male', 1:'male', \n",
    "            '0':'female', 0:'female'},\n",
    "    title = 'Spending on restaurants in different Russian cities (1-male, 0-female)' \n",
    "\n",
    ")\n",
    "fig_box_city_rest.update_layout( \n",
    "    yaxis=dict(\n",
    "        range=[0,1000]))\n",
    "fig_box_city_rest.show()"
   ]
  },
  {
   "cell_type": "markdown",
   "metadata": {},
   "source": [
    "<h1>The Penza anomaly<h1>"
   ]
  },
  {
   "cell_type": "markdown",
   "metadata": {},
   "source": [
    "<h3>overview\n",
    "<h3>"
   ]
  },
  {
   "cell_type": "code",
   "execution_count": null,
   "metadata": {},
   "outputs": [],
   "source": [
    "penza_anomaly_data = transactions.loc[\n",
    "    transactions.index=='a288a664b343fb3b2ce8fc48ccfa328b']\n",
    "\n",
    "penza_anomaly_spend = penza_anomaly_data.loc[penza_anomaly_data['amount']<0]\n",
    "penza_anomaly_income = penza_anomaly_data.loc[penza_anomaly_data['amount']>0]\n",
    "\n",
    "penzas_median = transactions.loc[transactions['trans_city'] == 'Penza']\n",
    "penzas_median = penzas_median.groupby(level=0)['amount'].sum().reset_index()['amount'].median()\n",
    "\n",
    "\n",
    "fig_penza_overview_income_spend = px.bar(\n",
    "    x = ['Expenses', 'Income', 'Median value for Penza'], \n",
    "    y = [abs(penza_anomaly_spend['amount'].sum()), \n",
    "         penza_anomaly_income['amount'].sum(), \n",
    "         abs(penzas_median)],\n",
    "    template=main_template,\n",
    "    title = 'Scale of the anomaly', \n",
    "    labels= {'x':'', 'y': 'amount in rubles'}\n",
    ")\n",
    "fig_penza_overview_income_spend.show()"
   ]
  },
  {
   "cell_type": "code",
   "execution_count": null,
   "metadata": {},
   "outputs": [],
   "source": [
    "def month_determ(data: str) -> int:\n",
    "    return int(data.split()[0])//30 - 2\n",
    "\n",
    "penza_data_month_spend = penza_anomaly_spend.copy()\n",
    "penza_data_month_spend['trans_time'] = penza_data_month_spend['trans_time'].apply(month_determ)\n",
    "penza_data_month_spend_gr = penza_data_month_spend.groupby('trans_time')['amount'].sum().reset_index()\n",
    "penza_data_month_spend_gr['amount'] = penza_data_month_spend_gr['amount'].abs()\n",
    "penza_data_month_spend_gr['type'] = 'expenses'\n",
    "\n",
    "penza_data_month_income = penza_anomaly_income.copy()\n",
    "penza_data_month_income['trans_time'] = penza_data_month_income['trans_time'].apply(month_determ)\n",
    "penza_data_month_income_gr = penza_data_month_income.groupby('trans_time')['amount'].sum().reset_index()\n",
    "penza_data_month_income_gr['type'] = 'income'\n",
    "\n",
    "gr_penza_month = pd.concat([penza_data_month_income_gr, penza_data_month_spend_gr])\n",
    "\n",
    "gr_penza_month = gr_penza_month.sort_values('trans_time')\n"
   ]
  },
  {
   "cell_type": "code",
   "execution_count": null,
   "metadata": {},
   "outputs": [],
   "source": [
    "fig_penza_bar_month = px.bar(\n",
    "    gr_penza_month, \n",
    "    y = 'amount', \n",
    "    x = 'trans_time',\n",
    "    color='type',\n",
    "    barmode='group', \n",
    "    template = main_template, \n",
    "    title = 'Duration of the anomaly observation',\n",
    "    labels={'trans_time': 'observed month'}\n",
    ")\n",
    "\n",
    "fig_penza_bar_month.show()\n",
    "# print(penza_anomaly_data['trans_city'].unique())\n",
    "# only Penza\n"
   ]
  },
  {
   "cell_type": "code",
   "execution_count": null,
   "metadata": {},
   "outputs": [],
   "source": [
    "ext_penza = penza_anomaly_data.copy()\n",
    "ext_penza = ext_penza.reset_index().drop(columns=['client_id'])\n",
    "ext_penza['type'] = np.where(ext_penza['amount'] > 0, 'income', 'expenses')\n",
    "ext_penza['amount'] = ext_penza['amount'].abs()\n",
    "\n",
    "def tranform_to_onlyDays(data:str) -> int:\n",
    "    return int(data.split()[0])\n",
    "\n",
    "four_month_penza = ext_penza.copy()\n",
    "four_month_penza['trans_time'] = four_month_penza['trans_time'].apply(tranform_to_onlyDays)\n",
    "four_month_penza = four_month_penza.loc[four_month_penza['trans_time']<=210]\n",
    "four_month_penza = four_month_penza.loc[four_month_penza['trans_time']>=180]\n",
    "\n",
    "four_month_penza_sped = four_month_penza.loc[four_month_penza['type']=='expenses']\n",
    "four_month_penza_income = four_month_penza.loc[four_month_penza['type']=='income']\n",
    "\n",
    "four_month_penza_sped = four_month_penza_sped.groupby('trans_time')['amount'].sum().reset_index()\n",
    "four_month_penza_income = four_month_penza_income.groupby('trans_time')['amount'].sum().reset_index()\n",
    "\n",
    "four_month_penza_sped['type'] = 'expenses'\n",
    "four_month_penza_income['type'] = 'income'\n",
    "\n",
    "four_month_penza = pd.concat([four_month_penza_sped, \n",
    "                              four_month_penza_income])\n",
    "\n",
    "def four_month_clear_days(data: str) -> int:\n",
    "    return data-180\n",
    "\n",
    "four_month_penza['trans_time'] = four_month_penza['trans_time'].apply(four_month_clear_days)"
   ]
  },
  {
   "cell_type": "code",
   "execution_count": null,
   "metadata": {},
   "outputs": [],
   "source": [
    "fig_penza_hist_days = px.bar(\n",
    "    four_month_penza, \n",
    "    x = 'trans_time', \n",
    "    y = 'amount', \n",
    "    color='type', \n",
    "    template=main_template, \n",
    "    barmode='group', \n",
    "    title = \"Distribution of expenditure and income by days of the fourth month\", \n",
    "    labels={'trans_time':'day'}\n",
    ")\n",
    "\n",
    "fig_penza_hist_days.show()"
   ]
  },
  {
   "cell_type": "markdown",
   "metadata": {},
   "source": [
    "<h3>Categories</h3>"
   ]
  },
  {
   "cell_type": "code",
   "execution_count": null,
   "metadata": {},
   "outputs": [],
   "source": [
    "penza_times = ext_penza.copy()\n",
    "def mcc_code_means(code: str) -> str:\n",
    "    return mcc_codes.loc[code]['mcc_description']\n",
    "\n",
    "ext_penza['mcc_code'] = ext_penza['mcc_code'].apply(mcc_code_means)\n"
   ]
  },
  {
   "cell_type": "code",
   "execution_count": null,
   "metadata": {},
   "outputs": [],
   "source": [
    "df = ext_penza.groupby('mcc_code')['amount'].sum().reset_index()\n",
    "df\n",
    "fig_top3_penza_spend = px.bar(\n",
    "    ext_penza.loc[ext_penza['type'] == 'expenses'].groupby(\n",
    "        'mcc_code')['amount'].sum().reset_index().sort_values('amount', ascending=False),\n",
    "        y = 'amount', x = [x+1 for x in range(3)], \n",
    "        template=main_template,\n",
    "        color='mcc_code', \n",
    "        labels={'x':'', 'mcc_code':'category'}, \n",
    "        title = 'Income categories'\n",
    "        )\n",
    "\n",
    "fig_top3_penza_spend.show()\n",
    "\n",
    "fig_top3_penza_income = px.bar(\n",
    "    ext_penza.loc[ext_penza['type'] == 'income'].groupby(\n",
    "        'mcc_code')['amount'].sum().reset_index().sort_values('amount', ascending=False),\n",
    "        y = 'amount', x = ['1', '2'], \n",
    "        template=main_template,\n",
    "        color='mcc_code', \n",
    "        labels={'x':'', 'mcc_code':'category'}, \n",
    "        title = 'Spending categories'\n",
    "        )\n",
    "\n",
    "fig_top3_penza_income.show()"
   ]
  },
  {
   "cell_type": "markdown",
   "metadata": {},
   "source": [
    "<h3>ATM's</h3>"
   ]
  },
  {
   "cell_type": "code",
   "execution_count": null,
   "metadata": {},
   "outputs": [],
   "source": [
    "penza_term = penza_anomaly_spend.groupby('term_id')['amount'].sum().reset_index()\n",
    "penza_term['amount'] = penza_term['amount'].abs()\n",
    "fig_penza_term = px.bar(penza_term, \n",
    "             x ='term_id', \n",
    "             y = 'amount', \n",
    "             template=main_template, \n",
    "             labels={'term_id':'terminal id'}, \n",
    "             title = 'What terminals she used to withdraw money from')\n",
    "\n",
    "\n",
    "fig_penza_term.show()"
   ]
  },
  {
   "cell_type": "markdown",
   "metadata": {},
   "source": [
    "<h3>anomaly time</h3>"
   ]
  },
  {
   "cell_type": "code",
   "execution_count": null,
   "metadata": {},
   "outputs": [],
   "source": [
    "def sep_to_hours_int(data: str) -> int:\n",
    "    return int(data[-8:-6])\n",
    "\n",
    "penza_anomaly_spend['trans_time'] = penza_anomaly_spend['trans_time'].apply(sep_to_hours_int)\n",
    "penza_anomaly_spend = pd.concat(\n",
    "    [penza_anomaly_spend, \n",
    "     pd.DataFrame([[x, 0] for x in range(24)],\n",
    "                  columns=['trans_time', 'amount'])])\n",
    "\n",
    "penza_anomaly_spend = penza_anomaly_spend.groupby('trans_time')['amount'].sum().reset_index().sort_values('trans_time')\n",
    "penza_anomaly_spend['amount'] = penza_anomaly_spend['amount'].abs()\n",
    "penza_anomaly_spend['type'] = 'expenses'\n",
    "\n",
    "\n",
    "penza_anomaly_income['trans_time'] = penza_anomaly_income['trans_time'].apply(sep_to_hours_int)\n",
    "penza_anomaly_income = pd.concat(\n",
    "    [penza_anomaly_spend, \n",
    "     pd.DataFrame([[x, 0] for x in range(24)],\n",
    "                  columns=['trans_time', 'amount'])])\n",
    "\n",
    "penza_anomaly_income = penza_anomaly_income.groupby('trans_time')['amount'].sum().reset_index().sort_values('trans_time')\n",
    "penza_anomaly_income['type'] = 'income'\n",
    "\n",
    "penza_times = pd.concat([penza_anomaly_income, penza_anomaly_spend])"
   ]
  },
  {
   "cell_type": "code",
   "execution_count": null,
   "metadata": {},
   "outputs": [],
   "source": [
    "fig_penza_times = px.bar(\n",
    "    penza_times, \n",
    "    x = 'trans_time', \n",
    "    y = 'amount', \n",
    "    color='type', \n",
    "    barmode='group', \n",
    "    title = 'At what time she spent and received the money',\n",
    "    labels={'trans_time':'hour'}, \n",
    "    template=main_template\n",
    ")\n",
    "\n",
    "fig_penza_times.update_xaxes(minor=dict(ticklen=6, tickcolor=\"white\"))\n",
    "\n",
    "fig_penza_times.show()"
   ]
  },
  {
   "cell_type": "markdown",
   "metadata": {},
   "source": [
    "<h2>Car owners</h2>"
   ]
  },
  {
   "cell_type": "code",
   "execution_count": null,
   "metadata": {},
   "outputs": [],
   "source": [
    "codes_car = [5532,5533,5541,5542,7523,7531,7538]\n",
    "\n",
    "car_owners = extended_transactions.loc[extended_transactions['mcc_code'].isin(codes_car)]\n",
    "car_owners = set(car_owners.index.values.tolist())\n",
    "tr_cars = extended_transactions.loc[extended_transactions.index.isin(car_owners)]\n",
    "\n",
    "car_genders = gender_train.loc[gender_train.index.isin(car_owners)].drop(['Unnamed: 0'], axis = 1).reset_index()\n",
    "car_genders = car_genders.groupby('gender')['client_id'].count().reset_index()\n",
    "car_genders['gender'] = car_genders['gender'].apply(change_bool_to_names)\n",
    "\n",
    "display(tr_cars)"
   ]
  },
  {
   "cell_type": "code",
   "execution_count": null,
   "metadata": {},
   "outputs": [],
   "source": [
    "fig_car_genders_pie = px.pie(\n",
    "    car_genders, \n",
    "    values='client_id',\n",
    "    names='gender',\n",
    "    template=main_template, \n",
    "    title = 'Gender distribution among car owners',\n",
    "    hole=0.6\n",
    ")\n",
    "\n",
    "fig_car_genders_pie.show()"
   ]
  },
  {
   "cell_type": "markdown",
   "metadata": {},
   "source": [
    "<body>Let's look at their income compared to those who don't have a car<body>"
   ]
  },
  {
   "cell_type": "code",
   "execution_count": null,
   "metadata": {},
   "outputs": [],
   "source": [
    "no_cars_income = extended_transactions.loc[\n",
    "    (extended_transactions.index.isin(car_owners)==False) & (extended_transactions['amount']>0)]\n",
    "no_cars_gr_inc = no_cars_income.groupby(level=0)['amount'].sum().reset_index()\n",
    "no_cars_gr_inc['car'] = 'carless'\n",
    "\n",
    "cars_income = tr_cars.loc[tr_cars['amount']>0]\n",
    "cars_gr_inc = cars_income.groupby(level=0)['amount'].sum().reset_index()\n",
    "cars_gr_inc['car'] = 'have car'\n",
    "\n",
    "merge_cars_inc = pd.concat([cars_gr_inc,no_cars_gr_inc]).set_index('client_id')"
   ]
  },
  {
   "cell_type": "markdown",
   "metadata": {},
   "source": [
    "<body>Visualise this as a box plot<body>\n"
   ]
  },
  {
   "cell_type": "code",
   "execution_count": null,
   "metadata": {},
   "outputs": [],
   "source": [
    "fig_car_income_box = px.box(\n",
    "    merge_cars_inc, \n",
    "    x = 'car', \n",
    "    y = 'amount', \n",
    "    color='car', \n",
    "    title = 'Comparison of incomes of people with and without a car', \n",
    "    template=main_template, \n",
    "    labels={'car':'type'}\n",
    ")\n",
    "\n",
    "fig_car_income_box.update_layout(yaxis=dict(range=[0,1.5*10**6]))\n",
    "\n",
    "fig_car_income_box.show()"
   ]
  },
  {
   "cell_type": "markdown",
   "metadata": {},
   "source": [
    "<body>\n",
    "Let's take a look at when people commit to medical spending. Maybe there's a seasonality there \n",
    "<body>"
   ]
  },
  {
   "cell_type": "code",
   "execution_count": null,
   "metadata": {},
   "outputs": [],
   "source": [
    "# get all medicine spendings transactions\n",
    "codes_medicine = [5912,8071,8099,8062,8011,5122]\n",
    "medicine_spendings = extended_transactions.loc[\n",
    "    (extended_transactions['mcc_code'].isin(codes_medicine)) &\n",
    "    (extended_transactions['amount']<0)]\n",
    "\n",
    "# remove time data and group them by week for clarity. Believe me, a 450-day chart is overnoisy\n",
    "def keep_only_weeks_int(trans_time: str) -> int:\n",
    "    return (int(trans_time.split()[0])//7)\n",
    "\n",
    "medicine_spendings['trans_time'].replace('', np.nan, inplace=True)\n",
    "medicine_spendings.dropna(subset=['trans_time'], inplace=True)\n",
    "\n",
    "    \n",
    "medicine_spendings['trans_time'] = medicine_spendings['trans_time'].apply(keep_only_weeks_int)\n",
    "\n",
    "# remove the oversized transactions so they don't spoil the picture:\n",
    "def remove_ext_medicine(amount: float) -> float:\n",
    "    return (amount>-10_000)*amount\n",
    "\n",
    "medicine_spendings['amount'] = medicine_spendings['amount'].apply(remove_ext_medicine)\n",
    "\n",
    "#group by day number:\n",
    "medicine_spendings_gr = medicine_spendings.groupby('trans_time')['amount'].sum().abs().reset_index().sort_values('trans_time')\n",
    "# let's delete the last incomplete week so that the graph doesn't fall at the end \n",
    "medicine_spendings_gr = medicine_spendings_gr.head(len(medicine_spendings_gr)-1)\n",
    "\n",
    "#abs for non-grooped dataframe (used for scatter and box plots)\n",
    "medicine_spendings['amount'] = medicine_spendings['amount'].abs()    \n"
   ]
  },
  {
   "cell_type": "code",
   "execution_count": null,
   "metadata": {},
   "outputs": [],
   "source": [
    "fig_medicine_line = px.line(\n",
    "    medicine_spendings_gr,\n",
    "    x = 'trans_time', #day number\n",
    "    y = 'amount', \n",
    "    template=main_template, \n",
    "    title='Spending on medicine in 450 days',\n",
    "    labels={'trans_time':'week number'}\n",
    ")   \n",
    "\n",
    "fig_medicine_line.show()\n"
   ]
  },
  {
   "cell_type": "code",
   "execution_count": null,
   "metadata": {},
   "outputs": [],
   "source": [
    "fig_medicine_scatter = px.scatter(\n",
    "    medicine_spendings, \n",
    "    x = 'trans_time', \n",
    "    y = 'amount', \n",
    "    template=main_template, \n",
    "    title='Spending on medicine in 450 days',\n",
    "    labels={'trans_time':'week number'}, \n",
    "    color='mcc_code'\n",
    ")\n",
    "fig_medicine_scatter.show()"
   ]
  },
  {
   "cell_type": "code",
   "execution_count": null,
   "metadata": {},
   "outputs": [],
   "source": [
    "#preparing dataframe for ulta_mega_super_combined_line_graph\n",
    "\n",
    "medicine_mcc_gr = medicine_spendings.groupby(['trans_time', 'mcc_code'])['amount'].sum().reset_index().sort_values('trans_time')\n",
    "medicine_mcc_gr = medicine_mcc_gr.head(len(medicine_mcc_gr)-4)\n",
    "\n",
    "medicine_mcc_gr['mcc_code'] = medicine_mcc_gr['mcc_code'].apply(mcc_code_means)\n",
    "medicine_mcc_gr=medicine_mcc_gr.sort_values(['trans_time', 'mcc_code'])"
   ]
  },
  {
   "cell_type": "code",
   "execution_count": null,
   "metadata": {},
   "outputs": [],
   "source": [
    "fig_medicine_line_pro = px.line(\n",
    "    medicine_mcc_gr,\n",
    "    x = 'trans_time',\n",
    "    y = 'amount', \n",
    "    color='mcc_code',\n",
    "    template=main_template, \n",
    "    title='Spending on medicine in 450 days', \n",
    "    labels={'trans_time':'week number', \n",
    "            'mcc_code':'category:'},\n",
    ")\n",
    "fig_medicine_line_pro.update_layout(\n",
    "    legend_orientation='h')\n",
    "fig_medicine_line_pro.update_layout(\n",
    "    legend_x = 0, \n",
    "    legend_y = -0.25,\n",
    "    xaxis_type = \"category\",\n",
    "    margin_r = 40,\n",
    "    legend_title_text = \"Category:\",\n",
    ")\n",
    "\n",
    "\n",
    "fig_medicine_line_pro.show()"
   ]
  },
  {
   "cell_type": "markdown",
   "metadata": {},
   "source": [
    "<body>\n",
    "Let’s try to find a correlation between a person’s income and the frequency of their spending on medicine.\n",
    "</body>\n"
   ]
  },
  {
   "cell_type": "code",
   "execution_count": null,
   "metadata": {},
   "outputs": [],
   "source": [
    "def remove_income_extremums(amount: float) -> float:\n",
    "    return (amount<10**6)*amount\n",
    "\n",
    "def genders_to_names(gender_value: int) -> str:\n",
    "    if gender_value:\n",
    "        return 'male'\n",
    "    return 'female'"
   ]
  },
  {
   "cell_type": "code",
   "execution_count": null,
   "metadata": {},
   "outputs": [],
   "source": [
    "users_total_spend = extended_transactions.loc[extended_transactions['amount']<0].reset_index().groupby(\n",
    "    ['client_id', 'gender'])['amount'].sum().abs().reset_index().set_index('client_id').sort_values('amount')\n",
    "\n",
    "\n",
    "med_users_total_spent = medicine_spendings.reset_index().groupby(\n",
    "    ['client_id', 'gender', 'mcc_code']\n",
    ")['amount'].sum().reset_index().set_index('client_id').sort_index()\n",
    "\n",
    "med_income_spend_correl = pd.merge(\n",
    "    med_users_total_spent,\n",
    "    users_total_spend, \n",
    "    right_index=True, \n",
    "    left_index=True\n",
    ").drop(columns=['gender_y']).rename(\n",
    "    columns={\n",
    "        'gender_x':'gender', \n",
    "        'amount_x':'spent',\n",
    "        'amount_y':'income'\n",
    "        })\n",
    "\n",
    "# rename genders: from 0-1 to mele-female\n",
    "med_income_spend_correl['gender'] = np.where(\n",
    "    med_income_spend_correl['gender'], 'male', 'female')\n",
    "\n",
    "# Let’s remove the extremes, as they prevent us from understanding the general trend\n",
    "med_income_spend_correl = med_income_spend_correl.loc[\n",
    "    (med_income_spend_correl['income']<5_000_000) &\n",
    "    (med_income_spend_correl['spent']<100_000)\n",
    "]"
   ]
  },
  {
   "cell_type": "code",
   "execution_count": null,
   "metadata": {},
   "outputs": [],
   "source": [
    "fig_med_income_scatter = px.scatter(\n",
    "    med_income_spend_correl,\n",
    "    x = 'income', \n",
    "    y = 'spent', \n",
    "    color='gender', \n",
    "    title='The dependence of spending on medicine on total income', \n",
    "    template=main_template,\n",
    "    log_x=False,\n",
    ")\n",
    "\n",
    "fig_med_income_scatter.show()"
   ]
  },
  {
   "cell_type": "markdown",
   "metadata": {},
   "source": [
    "<h4>\n",
    "Let’s try to make this graph more illustrative.\n",
    "<h4>"
   ]
  },
  {
   "cell_type": "markdown",
   "metadata": {},
   "source": [
    "grouping by income (rounding), take spent median"
   ]
  },
  {
   "cell_type": "code",
   "execution_count": null,
   "metadata": {},
   "outputs": [],
   "source": [
    "# grouping by income (rounding), take spent median\n",
    "\n",
    "def round_income(income_value: float) -> int:\n",
    "    return (income_value//15_000) * 15_000\n",
    "\n",
    "# round users income:\n",
    "med_income_spend_correl['income'] = med_income_spend_correl['income'].apply(round_income)\n",
    "\n",
    "# grouping by income:\n",
    "med_income_spend_correl = med_income_spend_correl.reset_index().groupby(\n",
    "    ['income', 'gender', 'mcc_code']\n",
    ")['spent'].median().reset_index().sort_values('income')\n",
    "\n",
    "# change mcc codes to names:\n",
    "\n",
    "med_income_spend_correl['mcc_code'] = med_income_spend_correl['mcc_code'].apply(mcc_code_means)\n",
    "\n",
    "# cut the income range:\n",
    "med_income_spend_correl = med_income_spend_correl.loc[med_income_spend_correl['income']<10**6]"
   ]
  },
  {
   "cell_type": "code",
   "execution_count": null,
   "metadata": {},
   "outputs": [],
   "source": [
    "fig_medicine_income_bar_pro = px.bar(\n",
    "    med_income_spend_correl,\n",
    "    x = 'income', \n",
    "    y = 'spent', \n",
    "    color='mcc_code', \n",
    "    title='The dependence of spending on medicine on total income', \n",
    "    template=main_template, \n",
    ")\n",
    "fig_medicine_income_bar_pro.update_layout(\n",
    "    legend_orientation='h', \n",
    "    legend_y = -0.25, \n",
    "    legend_title = 'Category:'\n",
    ")\n",
    "fig_medicine_income_bar_pro.add_trace(\n",
    "    go.Line(\n",
    "        x = med_income_spend_correl.groupby(['income'])['spent'].sum().reset_index()['income'],\n",
    "        y = med_income_spend_correl.groupby(['income'])['spent'].sum().reset_index()['spent'], \n",
    "        name = 'category sum'\n",
    "    )\n",
    ")\n",
    "\n",
    "fig_medicine_income_bar_pro.show()"
   ]
  },
  {
   "cell_type": "markdown",
   "metadata": {},
   "source": [
    "<h1>\n",
    "Travelling\n",
    "<h1>"
   ]
  },
  {
   "cell_type": "markdown",
   "metadata": {},
   "source": [
    "Let's look at the transactions related to leisure. Such as: rental of cars, railway and air transportation, hotels, etc."
   ]
  },
  {
   "cell_type": "code",
   "execution_count": null,
   "metadata": {},
   "outputs": [],
   "source": [
    "# travelling codes\n",
    "codes_trevel = [3000,3351,3501,4112,4411,4511,4722,7011,7512,7991]\n",
    "\n",
    "trev_transactions = extended_transactions.loc[\n",
    "    extended_transactions['mcc_code'].isin(codes_trevel)\n",
    "]\n",
    "trev_transactions = trev_transactions.loc[\n",
    "    trev_transactions['amount']<0\n",
    "]\n",
    "trev_transactions['amount'] = trev_transactions['amount'].abs()\n",
    "\n",
    "trev_transactions['trans_time'].replace('', np.nan, inplace=True)\n",
    "trev_transactions.dropna(subset=['trans_time'], inplace=True)"
   ]
  },
  {
   "cell_type": "code",
   "execution_count": null,
   "metadata": {},
   "outputs": [],
   "source": [
    "display(trev_transactions)"
   ]
  },
  {
   "cell_type": "markdown",
   "metadata": {},
   "source": [
    "Distribution by weeks"
   ]
  },
  {
   "cell_type": "code",
   "execution_count": null,
   "metadata": {},
   "outputs": [],
   "source": [
    "# separate days\n",
    "trev_transactions['trans_time'] = trev_transactions['trans_time'].apply(keep_only_weeks_int)\n",
    "\n",
    "trev_transactions_gr = trev_transactions.groupby(\n",
    "    ['trans_time', 'gender', 'mcc_code'])['amount'].sum().reset_index().sort_values('trans_time')\n",
    "\n",
    "trev_transactions_gr['amount'] = trev_transactions_gr['amount'].abs() \n",
    "# let's delete the last incomplete week so that the graph doesn't fall at the end \n",
    "trev_transactions_gr = trev_transactions.head(len(trev_transactions)-1)\n",
    "\n",
    "# abs for non-grooped dataframe (used for scatter and box plots)\n",
    "trev_transactions['amount'] = trev_transactions['amount'].abs() \n",
    "\n",
    "#remove extremums\n",
    "def remove_extremums_trevel(amount: float) -> float:\n",
    "    return (amount<100_000)*amount  \n",
    "\n",
    "trev_transactions['amount'] = trev_transactions['amount'].apply(remove_extremums_trevel)\n",
    "\n",
    "\n",
    "# change mcc codes to their russian names\n",
    "trev_transactions_gr['mcc_code'] = trev_transactions_gr['mcc_code'].apply(mcc_code_means)\n"
   ]
  },
  {
   "cell_type": "code",
   "execution_count": null,
   "metadata": {},
   "outputs": [],
   "source": [
    "#group categories; drop: city, gender, term_id, trans_type\n",
    "trev_transactions_gr = trev_transactions_gr.groupby(['trans_time', 'mcc_code'])['amount'].sum().reset_index()"
   ]
  },
  {
   "cell_type": "code",
   "execution_count": null,
   "metadata": {},
   "outputs": [],
   "source": [
    "fig_trevel_days_distr_bar = px.bar(\n",
    "    # remove last not-full week\n",
    "    trev_transactions_gr.head(len(trev_transactions_gr)-7), \n",
    "    x = 'trans_time', \n",
    "    y = 'amount', \n",
    "    color='mcc_code', \n",
    "    title='Distribution of travel expenses by weeks:', \n",
    "    labels={'trans_time':'week number'}, \n",
    "    template=main_template\n",
    ")\n",
    "\n",
    "fig_trevel_days_distr_bar.update_layout(\n",
    "    legend_orientation='h', \n",
    "    legend_title = 'Category:', \n",
    "    legend_y=-0.25,\n",
    "    legend_x = -0.1\n",
    ")\n",
    "\n",
    "fig_trevel_days_distr_bar.show()"
   ]
  },
  {
   "cell_type": "markdown",
   "metadata": {},
   "source": [
    "Upgrade data (grouping, smothing, e.t.c)"
   ]
  },
  {
   "cell_type": "code",
   "execution_count": null,
   "metadata": {},
   "outputs": [],
   "source": [
    "def group_data_trevel(mcc_code:str) -> str:\n",
    "    group_data = {\n",
    "        'Авиалинии, авиакомпании':'airline tickets',\n",
    "        'Авиалинии, авиакомпании, нигде более не классифицированные':'airline tickets',\n",
    "        'Жилье — отели, мотели, курорты': 'hotels', \n",
    "        'Отели, мотели, базы отдыха, сервисы бронирования':'hotels', \n",
    "        'Круизные линии':'cruises', \n",
    "        'Пассажирские железные перевозки':'railway tickets',\n",
    "        'Прокат автомобилей':'car hire',\n",
    "        'Агентства по аренде автомобилей':'car hire', \n",
    "        'Туристические агентства и организаторы экскурсий':'entertainments',\n",
    "        'Туристические аттракционы и шоу':'entertainments'\n",
    "    }\n",
    "    return group_data[mcc_code]\n",
    "\n",
    "trev_transactions_gr['mcc_code'] = trev_transactions_gr['mcc_code'].apply(group_data_trevel)\n",
    "\n",
    "trev_transactions_gr = trev_transactions_gr.groupby(['trans_time', 'mcc_code'])['amount'].sum().reset_index()"
   ]
  },
  {
   "cell_type": "code",
   "execution_count": null,
   "metadata": {},
   "outputs": [],
   "source": [
    "fig_adv_trevel_days_distr_bar = px.bar(\n",
    "    # remove last not-full week\n",
    "    trev_transactions_gr.head(len(trev_transactions_gr)-7), \n",
    "    x = 'trans_time', \n",
    "    y = 'amount', \n",
    "    color='mcc_code', \n",
    "    title='Distribution of travel expenses by weeks:', \n",
    "    labels={'trans_time':'week number'}, \n",
    "    template=main_template\n",
    ")\n",
    "\n",
    "fig_adv_trevel_days_distr_bar.update_layout(\n",
    "    legend_orientation='h', \n",
    "    legend_title = 'Category:', \n",
    "    legend_y=-0.25,\n",
    "    legend_x = -0.1\n",
    ")\n",
    "\n",
    "fig_adv_trevel_days_distr_bar.show()"
   ]
  },
  {
   "cell_type": "markdown",
   "metadata": {},
   "source": [
    "we'll smooth out the graph by summing by two weeks instead of a week."
   ]
  },
  {
   "cell_type": "code",
   "execution_count": null,
   "metadata": {},
   "outputs": [],
   "source": [
    "def one_to_two_week(week_number:int) -> int:\n",
    "    return (week_number//2) * 2\n",
    "\n",
    "trev_transactions_gr_two = trev_transactions_gr.copy()\n",
    "trev_transactions_gr_two['trans_time'] = trev_transactions_gr['trans_time'].apply(one_to_two_week)\n",
    "trev_transactions_gr_two = trev_transactions_gr.groupby(['trans_time', 'mcc_code'])['amount'].sum().reset_index()"
   ]
  },
  {
   "cell_type": "code",
   "execution_count": null,
   "metadata": {},
   "outputs": [],
   "source": [
    "fig_adv_trevel_days_distr_line = px.line(\n",
    "    # remove last not-full week\n",
    "    trev_transactions_gr_two.head(len(trev_transactions_gr)-7), \n",
    "    x = 'trans_time', \n",
    "    y = 'amount', \n",
    "    color='mcc_code', \n",
    "    title='Distribution of travel expenses by weeks:', \n",
    "    labels={'trans_time':'week number'}, \n",
    "    template=main_template,\n",
    "    line_shape='spline'\n",
    ")\n",
    "\n",
    "fig_adv_trevel_days_distr_line.update_layout(\n",
    "    legend_orientation='h', \n",
    "    legend_title = 'Category:', \n",
    "    legend_y=-0.25,\n",
    "    legend_x = -0.1\n",
    ")\n",
    "\n",
    "fig_adv_trevel_days_distr_line.show()"
   ]
  },
  {
   "cell_type": "markdown",
   "metadata": {},
   "source": [
    "icome - spent corrilation"
   ]
  },
  {
   "cell_type": "code",
   "execution_count": null,
   "metadata": {},
   "outputs": [],
   "source": [
    "\n",
    "trev_users_total_spent = trev_transactions.reset_index().groupby(\n",
    "    ['client_id', 'gender', 'mcc_code']\n",
    ")['amount'].sum().reset_index().set_index('client_id').sort_index()\n",
    "# group categories\n",
    "trev_users_total_spent['mcc_code'] = trev_users_total_spent['mcc_code'].apply(mcc_code_means)\n",
    "trev_users_total_spent['mcc_code'] = trev_users_total_spent['mcc_code'].apply(group_data_trevel)\n",
    "\n",
    "trev_income_spend_correl = pd.merge(\n",
    "    trev_users_total_spent,\n",
    "    users_total_spend, \n",
    "    right_index=True, \n",
    "    left_index=True\n",
    ").drop(columns=['gender_y']).rename(\n",
    "    columns={\n",
    "        'gender_x':'gender', \n",
    "        'amount_x':'spent',\n",
    "        'amount_y':'income'\n",
    "        })\n",
    "\n",
    "# rename genders: from 0-1 to mele-female\n",
    "trev_income_spend_correl['gender'] = np.where(\n",
    "    trev_income_spend_correl['gender'], 'male', 'female')\n",
    "\n",
    "# Let’s remove the extremes, as they prevent us from understanding the general trend\n",
    "trev_income_spend_correl = trev_income_spend_correl.loc[\n",
    "    (trev_income_spend_correl['income']<5_000_000) &\n",
    "    (trev_income_spend_correl['spent']<50_000)\n",
    "]"
   ]
  },
  {
   "cell_type": "code",
   "execution_count": null,
   "metadata": {},
   "outputs": [],
   "source": [
    "fig_trev_income_scatter = px.scatter(\n",
    "    trev_income_spend_correl,\n",
    "    x = 'income', \n",
    "    y = 'spent', \n",
    "    color='gender', \n",
    "    title='The dependence of spending on treveling on total income', \n",
    "    template=main_template,\n",
    "    log_x=False,\n",
    "    \n",
    "    \n",
    ")\n",
    "fig_trev_income_scatter.show()"
   ]
  },
  {
   "cell_type": "markdown",
   "metadata": {},
   "source": [
    "conclusion: people who don't earn much money have a lot of money for travelling. (unexpectedly)"
   ]
  },
  {
   "cell_type": "markdown",
   "metadata": {},
   "source": [
    "<h4>\n",
    "Let’s try to make this graph more illustrative.\n",
    "</h4>\n",
    "\n",
    "    grouping by income (rounding), take spent median"
   ]
  },
  {
   "cell_type": "code",
   "execution_count": null,
   "metadata": {},
   "outputs": [],
   "source": [
    "# grouping by income (rounding), take spent median\n",
    "\n",
    "# round users income:\n",
    "trev_income_spend_correl['income'] = trev_income_spend_correl['income'].apply(round_income)\n",
    "\n",
    "# grouping by income:\n",
    "trev_income_spend_correl = trev_income_spend_correl.reset_index().groupby(\n",
    "    ['income', 'gender', 'mcc_code']\n",
    ")['spent'].median().reset_index().sort_values('income')\n",
    "\n",
    "# change mcc codes to names:\n",
    "\n",
    "# cut the income range:\n",
    "trev_income_spend_correl = trev_income_spend_correl.loc[trev_income_spend_correl['income']<10**6]\n"
   ]
  },
  {
   "cell_type": "code",
   "execution_count": null,
   "metadata": {},
   "outputs": [],
   "source": [
    "fig_trevel_income_bar_pro = px.bar(\n",
    "    trev_income_spend_correl,\n",
    "    x = 'income', \n",
    "    y = 'spent', \n",
    "    color='mcc_code', \n",
    "    title='The dependence of spending on trevelling on total income', \n",
    "    template=main_template, \n",
    ")\n",
    "fig_trevel_income_bar_pro.update_layout(\n",
    "    legend_orientation='h', \n",
    "    legend_y = -0.25, \n",
    "    legend_title = 'Category:'\n",
    ")\n",
    "fig_trevel_income_bar_pro.add_trace(\n",
    "    go.Line(\n",
    "        x = trev_income_spend_correl.groupby(['income'])['spent'].sum().reset_index()['income'],\n",
    "        y = trev_income_spend_correl.groupby(['income'])['spent'].sum().reset_index()['spent'], \n",
    "        name = 'category sum',\n",
    "        line_shape = 'spline'\n",
    "    )\n",
    ")\n",
    "\n",
    "fig_trevel_income_bar_pro.show()"
   ]
  },
  {
   "cell_type": "markdown",
   "metadata": {},
   "source": [
    "Statistics by cities"
   ]
  },
  {
   "cell_type": "code",
   "execution_count": null,
   "metadata": {},
   "outputs": [],
   "source": [
    "trev_city = trev_transactions.groupby(['trans_time', 'trans_city'])['amount'].sum().reset_index()\n",
    "\n",
    "#make smother var\n",
    "trev_city_smooth = trev_city.copy()\n",
    "trev_city_smooth = trev_city_smooth.copy()\n",
    "trev_city_smooth['trans_time'] = trev_city_smooth['trans_time'].apply(one_to_two_week)\n",
    "trev_city_smooth = trev_city_smooth.groupby(['trans_time', 'trans_city'])['amount'].sum().reset_index()"
   ]
  },
  {
   "cell_type": "code",
   "execution_count": null,
   "metadata": {},
   "outputs": [],
   "source": [
    "fig_trev_city_week_bar = px.bar(\n",
    "    trev_city_smooth, \n",
    "    x = 'trans_time',\n",
    "    y = 'amount',\n",
    "    color='trans_city', \n",
    "    title=\"Travelling expenses in different cities of Russia\", \n",
    "    labels={'trans_time': 'week_number'}, \n",
    "    template=main_template\n",
    ")\n",
    "\n",
    "fig_trev_city_week_bar.update_layout(\n",
    "    legend_orientation='h', \n",
    "    legend_title = 'Category:', \n",
    "    legend_y=-0.25,\n",
    "    legend_x = -0.1\n",
    ")\n",
    "\n",
    "fig_trev_city_week_bar.show()"
   ]
  },
  {
   "cell_type": "code",
   "execution_count": null,
   "metadata": {},
   "outputs": [],
   "source": [
    "fig_trev_city_week_line = px.line(\n",
    "    trev_city_smooth, \n",
    "    x = 'trans_time',\n",
    "    y = 'amount',\n",
    "    color='trans_city', \n",
    "    title=\"Travelling expenses in different cities of Russia\", \n",
    "    labels={'trans_time': 'week_number'}, \n",
    "    template=main_template,\n",
    ")\n",
    "\n",
    "fig_trev_city_week_line.update_layout(\n",
    "    legend_orientation='h', \n",
    "    legend_title = 'Category:', \n",
    "    legend_y=-0.25,\n",
    "    legend_x = -0.1\n",
    ")\n",
    "\n",
    "fig_trev_city_week_line.show()"
   ]
  },
  {
   "cell_type": "markdown",
   "metadata": {},
   "source": [
    "<h4>make box plot</h4>\n",
    "<body>The travel expenses of inhabitants of various cities</body>"
   ]
  },
  {
   "cell_type": "code",
   "execution_count": null,
   "metadata": {},
   "outputs": [],
   "source": [
    "fig_trev_city_box = px.box(\n",
    "    trev_transactions, \n",
    "    x = 'trans_city', \n",
    "    y = 'amount', \n",
    "    title = 'The travel expenses of inhabitants of various cities', \n",
    "    labels={'trans_city':'city name'},\n",
    "    template=main_template\n",
    ")\n",
    "fig_trev_city_box.update_layout( \n",
    "    yaxis=dict(\n",
    "        range=[0,20_000]\n",
    "    )\n",
    ")\n",
    "\n",
    "fig_trev_city_box.show()"
   ]
  }
 ],
 "metadata": {
  "kernelspec": {
   "display_name": "base",
   "language": "python",
   "name": "python3"
  },
  "language_info": {
   "codemirror_mode": {
    "name": "ipython",
    "version": 3
   },
   "file_extension": ".py",
   "mimetype": "text/x-python",
   "name": "python",
   "nbconvert_exporter": "python",
   "pygments_lexer": "ipython3",
   "version": "3.11.5"
  }
 },
 "nbformat": 4,
 "nbformat_minor": 2
}
